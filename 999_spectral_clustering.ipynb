{
 "cells": [
  {
   "cell_type": "code",
   "execution_count": 1,
   "id": "c325d91e-128e-430e-beda-5e4ee484a194",
   "metadata": {},
   "outputs": [],
   "source": [
    "import numpy as np\n",
    "import matplotlib.pyplot as plt\n",
    "import pandas as pd\n",
    "import scipy.linalg\n",
    "from sklearn.cluster import KMeans\n",
    "from sklearn.metrics.pairwise import rbf_kernel"
   ]
  },
  {
   "cell_type": "code",
   "execution_count": 2,
   "id": "b88771b0-018a-4f20-ba15-bc70f8a5e1b9",
   "metadata": {},
   "outputs": [],
   "source": [
    "from data_handling import LaserDataInteractorESRF\n",
    "import data_processing "
   ]
  },
  {
   "cell_type": "markdown",
   "id": "1787c925-4b92-4560-9886-0e8aece9d58a",
   "metadata": {},
   "source": [
    "## Collapse data"
   ]
  },
  {
   "cell_type": "code",
   "execution_count": 3,
   "id": "e2b85851-ed6d-44ad-b2b5-498833069719",
   "metadata": {},
   "outputs": [],
   "source": [
    "path_rel = '/Volumes/Sandisk_SD/Work/IZFP/Laser/03_ESRF/Code/measurements/ESRF_TU_Ilmenau_IZFP/Messdaten_QASS'\n",
    "fs_HD = 20*10**3 #[hz]\n",
    "collapse = np.loadtxt(f'{path_rel}/999_collapse/collapse.txt')/fs_HD"
   ]
  },
  {
   "cell_type": "markdown",
   "id": "7ee7f3ff-30e8-4612-ba56-63b878a8a9df",
   "metadata": {},
   "source": [
    "## AE data"
   ]
  },
  {
   "cell_type": "code",
   "execution_count": 4,
   "id": "70b84df3-a0c8-4460-9bcd-db545747a9a2",
   "metadata": {},
   "outputs": [],
   "source": [
    "# Known measurmeent variables\n",
    "fs = 6.25* 10**6 #[Hz]\n",
    "dt = 1/fs #[s]\n",
    "\n",
    "# Data info\n",
    "chNo = 1\n",
    "fileNo = 50\n",
    "path_rel = '/Volumes/Sandisk_SD/Work/IZFP/Laser/03_ESRF/Code/measurements/ESRF_TU_Ilmenau_IZFP/Messdaten_QASS'"
   ]
  },
  {
   "cell_type": "code",
   "execution_count": 5,
   "id": "398434a1-6873-4c76-ad09-1272c713c906",
   "metadata": {},
   "outputs": [
    {
     "name": "stdout",
     "output_type": "stream",
     "text": [
      "dt=0.16, dt1=0.16, dt2=0.1599975016655563\n"
     ]
    }
   ],
   "source": [
    "# --- Raw data\n",
    "interactor = LaserDataInteractorESRF()\n",
    "interactor.path_rel = path_rel\n",
    "# Ch.1\n",
    "interactor.fname = (1, fileNo) # ChNo, fileNo\n",
    "sig1, dt1 = interactor.load_data(ret_dt=True)\n",
    "sig1 -= sig1.mean()\n",
    "# Ch.2\n",
    "interactor.fname = (2, fileNo) # ChNo, fileNo\n",
    "sig2, dt2 = interactor.load_data(ret_dt=True)\n",
    "sig2 -= sig2.mean()\n",
    "\n",
    "print(f'dt={dt*10**6}, dt1={dt*10**6}, dt2={dt2*10**6}')\n",
    "del dt1, dt2"
   ]
  },
  {
   "cell_type": "code",
   "execution_count": 6,
   "id": "4c4d5faf-e589-478c-9f7e-d342e4dc8d0e",
   "metadata": {},
   "outputs": [],
   "source": [
    "# --- Data processing\n",
    "# ---- Parameters: -> based on the spectrogram --> then, we can downsample by 3\n",
    "fmin = 200*10**3 # [Hz]\n",
    "fmax = 300*10**3 # [Hz] \n",
    "# Downsample in freq. domain\n",
    "ds = 3 # downsample factor\n",
    "\n",
    "# ---- Processing: Bandpass + down sampling\n",
    "def bpds(_sig):\n",
    "    processor = data_processing.ProcessingUtil()\n",
    "    _sig_bp = processor.apply_bandpass(_sig, f_range=[fmin, fmax], dt=dt)\n",
    "    _sig_processed = processor.downsample(_sig_bp, ds, ret_freps=False)\n",
    "    # Unit energy\n",
    "    energy = np.sum(_sig_processed**2)\n",
    "    return _sig_processed/np.sqrt(energy)\n",
    "    \n",
    "# Ch.1\n",
    "sig1_proc = bpds(sig1)\n",
    "# Ch.2\n",
    "sig2_proc = bpds(sig2)\n",
    "\n",
    "fs_new = round(fs/ds, 9)\n",
    "dt_new = round(1/fs_new, 9)"
   ]
  },
  {
   "cell_type": "markdown",
   "id": "d2dded7e-d972-491d-bf9d-cf8fca12f681",
   "metadata": {},
   "source": [
    "## Data set preparation: AE signals"
   ]
  },
  {
   "cell_type": "code",
   "execution_count": 7,
   "id": "6bb19a5a-d0b6-4fc8-9783-bb089aa9d247",
   "metadata": {},
   "outputs": [
    {
     "name": "stdout",
     "output_type": "stream",
     "text": [
      "Sanity check: last collapse = 0.31485s, last window = 0.29199791999999997...0.31699792\n",
      "Segemented array equal? False\n",
      "Sanity check: last collapse = 0.31485s, last window = 0.29199791999999997...0.31699792\n",
      "Segemented array equal? False\n",
      "(52083, 24)\n",
      "[0.01699968 0.04199952 0.06699936 0.0919992  0.11699904 0.14199888\n",
      " 0.16699872 0.19199856 0.2169984  0.24199824 0.26699808 0.29199792\n",
      " 0.31699776]\n"
     ]
    }
   ],
   "source": [
    "def segment_AE_signal(_sig, _t_start, _t_end, _T, _dt, ret_t=False):\n",
    "    # (1) Array size\n",
    "    n = int(_T/_dt) # = number of time samples within _T (i.e. per segment)\n",
    "    # (2) segment points \n",
    "    # ---> needs to be calculated based on indices, otherwise a quantization error causes inconsistent interval between indices\n",
    "    # !!! indices[-1] = the last bin edges, i.e. the point we need to exclude (this is useful to compute bin edges for collapse though)\n",
    "    indices = np.arange(int(_t_start/_dt), int((_t_end+_T)/_dt), n)\n",
    "    # (3) Segmenting: there is a function for slicing and reshaping in numpy!\n",
    "    # This stride_tricks.sliding_window_view works exactly what I want: \n",
    "    # (3.1) array start corresponds to the given index of the input (here _sig)\n",
    "    # (3.2) slices the input with the constant length (here n)\n",
    "    arr = np.lib.stride_tricks.sliding_window_view(_sig, n)[indices[:-1], :]\n",
    "    # (4) Unit energy for each segment ---> may be better for constructing the similarity matrix?\n",
    "    arr = arr - arr.mean(axis=1, keepdims=True)\n",
    "    arr = arr / np.linalg.norm(arr, axis=1, keepdims=True)\n",
    "    # Sanity check\n",
    "    print(f'Sanity check: last collapse = {_t_end}s, last window = {indices[-2]*_dt}...{indices[-2]*_dt+_T}')\n",
    "    print(f'Segemented array equal? {np.array_equal(arr[0, :], _sig[indices[0]:indices[1]])}')\n",
    "    if ret_t == False:\n",
    "        return arr.T\n",
    "    else:\n",
    "        t = np.around(_dt* indices, 9)\n",
    "        return arr.T, t\n",
    "    \n",
    "# Params for segmenting\n",
    "# ---> Weld starting point\n",
    "t_start_HD = 0.2154 #[s]\n",
    "t_start_qass = 0.017#0.017, 0.02677: from data, either t_start_qass = 0.017, or t_start_qass = 0.02677\n",
    "t_offset = t_start_HD - t_start_qass # [s], determined \"by eyes\" \n",
    "collapse_qass = np.around(collapse - t_offset, 9)\n",
    "# ---> Window duration\n",
    "T = 0.025 # [s]\n",
    "\n",
    "X1, t = segment_AE_signal(sig1_proc, t_start_qass, collapse_qass[-1], T, dt_new, ret_t=True)\n",
    "X2 = segment_AE_signal(sig2_proc, t_start_qass, collapse_qass[-1], T, dt_new)\n",
    "# Combine\n",
    "X = np.concatenate((X1, X2), axis=-1)\n",
    "print(X.shape)\n",
    "print(t) #-> which we need for computing the collapse density\n",
    "\n",
    "del sig1, sig2, sig1_proc, sig2_proc"
   ]
  },
  {
   "cell_type": "code",
   "execution_count": 9,
   "id": "72499920-07be-40df-a812-c9d52dd6fe51",
   "metadata": {},
   "outputs": [],
   "source": [
    "import plotly.graph_objects as go\n",
    "\n",
    "run_plotly = False\n",
    "\n",
    "if run_plotly == True:\n",
    "    X = X1\n",
    "    # Create the figure\n",
    "    fig = go.Figure()\n",
    "    \n",
    "    n = X.shape[0]\n",
    "    M = X.shape[1]\n",
    "    \n",
    "    # Add each signal as a trace\n",
    "    for i in range(M):\n",
    "        fig.add_trace(go.Scatter(\n",
    "            x=np.arange(n), \n",
    "            y=X[:, i], \n",
    "            mode='lines', \n",
    "            name=f\"Signal {i+1}\", \n",
    "            visible=True\n",
    "        ))\n",
    "    \n",
    "    # Update layout for better interactivity\n",
    "    fig.update_layout(\n",
    "        title=\"Interactive Signal Plot\",\n",
    "        xaxis_title=\"Time\",\n",
    "        yaxis_title=\"Amplitude\",\n",
    "        legend_title=\"Signals\",\n",
    "        updatemenus=[\n",
    "            {\n",
    "                \"buttons\": [\n",
    "                    {\"label\": \"Show All\", \"method\": \"update\", \"args\": [{\"visible\": [True] * M}]} \n",
    "                ] + [\n",
    "                    {\"label\": f\"Show Signal {i+1}\", \"method\": \"update\",\n",
    "                     \"args\": [{\"visible\": [j == i for j in range(M)]}]} \n",
    "                    for i in range(M)\n",
    "                ],\n",
    "                \"direction\": \"down\",\n",
    "                \"showactive\": True,\n",
    "            }\n",
    "        ]\n",
    "    )\n",
    "    \n",
    "    # Show figure\n",
    "    fig.show()\n"
   ]
  },
  {
   "cell_type": "markdown",
   "id": "0b6424e5-1f83-4762-aa6f-5dfe1b7b8776",
   "metadata": {},
   "source": [
    "## Dataset preparation: collapse (i.e. labels)"
   ]
  },
  {
   "cell_type": "code",
   "execution_count": 8,
   "id": "758732be-36e8-4cd0-947e-ecae993581a4",
   "metadata": {},
   "outputs": [
    {
     "ename": "NameError",
     "evalue": "name 'labels' is not defined",
     "output_type": "error",
     "traceback": [
      "\u001b[0;31m---------------------------------------------------------------------------\u001b[0m",
      "\u001b[0;31mNameError\u001b[0m                                 Traceback (most recent call last)",
      "Cell \u001b[0;32mIn[8], line 8\u001b[0m\n\u001b[1;32m      6\u001b[0m plt\u001b[38;5;241m.\u001b[39mylabel(\u001b[38;5;124m'\u001b[39m\u001b[38;5;124mcounts\u001b[39m\u001b[38;5;124m'\u001b[39m)\n\u001b[1;32m      7\u001b[0m plt\u001b[38;5;241m.\u001b[39mgrid(\u001b[38;5;28;01mTrue\u001b[39;00m)\n\u001b[0;32m----> 8\u001b[0m \u001b[38;5;28mprint\u001b[39m(\u001b[43mlabels\u001b[49m)\n",
      "\u001b[0;31mNameError\u001b[0m: name 'labels' is not defined"
     ]
    },
    {
     "data": {
      "image/png": "[encoded data removed]",
      "text/plain": [
       "<Figure size 640x480 with 1 Axes>"
      ]
     },
     "metadata": {},
     "output_type": "display_data"
    }
   ],
   "source": [
    "# Histrogram\n",
    "counts, _ = np.histogram(collapse_qass, bins=t)\n",
    "plt.bar(x=t[:-1], height=counts, align='edge', width=t[1]-t[0])\n",
    "plt.title('Histogrm: collapse')\n",
    "plt.xlabel('t[s]')\n",
    "plt.ylabel('counts')\n",
    "plt.grid(True)\n",
    "print(labels)"
   ]
  },
  {
   "cell_type": "markdown",
   "id": "3197177b-2429-4234-85ac-c46691867b7c",
   "metadata": {},
   "source": [
    "## Graph-based analysis"
   ]
  },
  {
   "cell_type": "code",
   "execution_count": null,
   "id": "3ea60181-add9-4369-a490-2e67f8b74a7a",
   "metadata": {},
   "outputs": [],
   "source": [
    "def unnormalized_spectral_clustering(X, k, sigma=1.0):\n",
    "    \"\"\"\n",
    "    Perform unnormalized spectral clustering.\n",
    "\n",
    "    Parameters:\n",
    "    X : ndarray of shape (n_samples, n_features)\n",
    "        Input data.\n",
    "    k : int\n",
    "        Number of clusters.\n",
    "    sigma : float, optional (default=1.0)\n",
    "        Parameter for the RBF kernel.\n",
    "\n",
    "    Returns:\n",
    "    labels : ndarray of shape (n_samples,)\n",
    "        Cluster labels for each point.\n",
    "    \"\"\"\n",
    "    # Step 1: Compute the similarity matrix using the RBF kernel\n",
    "    W = rbf_kernel(X, gamma=1.0 / (2 * sigma**2))\n",
    "\n",
    "    # Step 2: Compute the degree matrix\n",
    "    D = np.diag(W.sum(axis=1))\n",
    "\n",
    "    # Step 3: Compute the unnormalized graph Laplacian\n",
    "    L = D - W\n",
    "\n",
    "    # Step 4: Compute the first k eigenvectors of L\n",
    "    eigvals, eigvecs = scipy.linalg.eigh(L, subset_by_index=[0, k-1])\n",
    "\n",
    "    # Step 5: Construct the matrix U\n",
    "    U = eigvecs\n",
    "\n",
    "    # Step 6: Normalize row-wise (not needed for unnormalized spectral clustering)\n",
    "\n",
    "    # Step 7: Apply k-means to the rows of U\n",
    "    kmeans = KMeans(n_clusters=k, n_init=10, random_state=0)\n",
    "    labels = kmeans.fit_predict(U)\n",
    "\n",
    "    return labels"
   ]
  },
  {
   "cell_type": "code",
   "execution_count": 9,
   "id": "9f406910-d66a-46ad-91bc-53cdbf8953be",
   "metadata": {},
   "outputs": [
    {
     "name": "stdout",
     "output_type": "stream",
     "text": [
      "(12, 12)\n"
     ]
    }
   ],
   "source": [
    "# (1) Adjacency / weight matrix using the RBF kernel\n",
    "sigma=0.2\n",
    "W = rbf_kernel(X1.T, gamma=1.0 / (2 * sigma**2))\n",
    "print(W.shape)\n",
    "# Step 2: Compute the degree matrix\n",
    "D = np.diag(W.sum(axis=1))\n",
    "# Step 3: Compute the unnormalized graph Laplacian\n",
    "L = D - W\n",
    "# Step 4: Compute the first k eigenvectors of L\n",
    "eigvals, eigvecs = scipy.linalg.eigh(L)"
   ]
  },
  {
   "cell_type": "code",
   "execution_count": 10,
   "id": "7dbbe55e-15f3-4d82-bd74-3dc175fb8a23",
   "metadata": {},
   "outputs": [
    {
     "name": "stdout",
     "output_type": "stream",
     "text": [
      "[3.24884530e-17 1.48279385e-10 1.51005304e-10 1.65865958e-10\n",
      " 1.74378881e-10 1.87338859e-10 1.95546870e-10 2.08519463e-10\n",
      " 2.22810012e-10 2.29501545e-10 2.45308444e-10 2.52669337e-10]\n"
     ]
    },
    {
     "data": {
      "image/png": "[encoded data removed]",
      "text/plain": [
       "<Figure size 640x480 with 1 Axes>"
      ]
     },
     "metadata": {},
     "output_type": "display_data"
    }
   ],
   "source": [
    "print(eigvals)\n",
    "plt.plot(eigvals)\n",
    "plt.grid(True)"
   ]
  },
  {
   "cell_type": "code",
   "execution_count": 14,
   "id": "94fad925-ff1d-4826-818a-beff14aa2334",
   "metadata": {},
   "outputs": [],
   "source": [
    "# Step 5: Construct the matrix U\n",
    "k = 3 # determined based on eigenvalue analysis\n",
    "U = eigvecs[:, :k]\n",
    "# Step 7: Apply k-means to the rows of U\n",
    "kmeans = KMeans(n_clusters=k, n_init=10, random_state=0)\n",
    "labels = kmeans.fit_predict(U)"
   ]
  },
  {
   "cell_type": "code",
   "execution_count": 15,
   "id": "873c731e-3567-4ef2-a81f-51d68e270533",
   "metadata": {},
   "outputs": [
    {
     "name": "stdout",
     "output_type": "stream",
     "text": [
      "Collapse density = [14  7  6  7  3  3  1  1  2  3  0  3]\n",
      "Predicted labels = [1 0 1 0 1 2 0 0 1 0 1 1]\n"
     ]
    }
   ],
   "source": [
    "print(f'Collapse density = {counts}')\n",
    "print(f'Predicted labels = {labels}')"
   ]
  },
  {
   "cell_type": "code",
   "execution_count": 16,
   "id": "05753265-33ae-48b9-a493-9a5c5e6de099",
   "metadata": {},
   "outputs": [
    {
     "data": {
      "image/png": "[encoded data removed]",
      "text/plain": [
       "<Figure size 640x480 with 1 Axes>"
      ]
     },
     "metadata": {},
     "output_type": "display_data"
    }
   ],
   "source": [
    "plt.scatter(counts, labels)\n",
    "plt.grid(True)\n",
    "plt.title(f'Spectral clustering (k={k}) vs collapse density')\n",
    "plt.xlabel(f'Collapse density per {T}s')\n",
    "plt.ylabel('Labels')\n",
    "plt.show()"
   ]
  },
  {
   "cell_type": "code",
   "execution_count": 10,
   "id": "46b89c2b-b9be-42d1-82c8-af28d072275f",
   "metadata": {},
   "outputs": [],
   "source": []
  },
  {
   "cell_type": "code",
   "execution_count": null,
   "id": "360e1176-a27f-4a38-966b-d0da290a7de5",
   "metadata": {},
   "outputs": [],
   "source": []
  }
 ],
 "metadata": {
  "kernelspec": {
   "display_name": "Python 3 (ipykernel)",
   "language": "python",
   "name": "python3"
  },
  "language_info": {
   "codemirror_mode": {
    "name": "ipython",
    "version": 3
   },
   "file_extension": ".py",
   "mimetype": "text/x-python",
   "name": "python",
   "nbconvert_exporter": "python",
   "pygments_lexer": "ipython3",
   "version": "3.12.3"
  }
 },
 "nbformat": 4,
 "nbformat_minor": 5
}
